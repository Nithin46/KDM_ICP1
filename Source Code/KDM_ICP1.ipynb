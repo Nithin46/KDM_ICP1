{
  "nbformat": 4,
  "nbformat_minor": 0,
  "metadata": {
    "colab": {
      "name": "KDM_ICP1.ipynb",
      "provenance": []
    },
    "kernelspec": {
      "name": "python3",
      "display_name": "Python 3"
    }
  },
  "cells": [
    {
      "cell_type": "markdown",
      "metadata": {
        "id": "5WzV6YJj5Nd_"
      },
      "source": [
        "**Step 1: Below snippet is to import all the libraries that we are going to use**\r\n",
        "\r\n"
      ]
    },
    {
      "cell_type": "code",
      "metadata": {
        "colab": {
          "base_uri": "https://localhost:8080/"
        },
        "id": "osW-c-cx5Te7",
        "outputId": "be13e13e-abc2-49e0-e94a-fbad3f4bf7d4"
      },
      "source": [
        "import nltk\r\n",
        "nltk.download('punkt')\r\n",
        "import pandas as pd"
      ],
      "execution_count": 15,
      "outputs": [
        {
          "output_type": "stream",
          "text": [
            "[nltk_data] Downloading package punkt to /root/nltk_data...\n",
            "[nltk_data]   Package punkt is already up-to-date!\n"
          ],
          "name": "stdout"
        }
      ]
    },
    {
      "cell_type": "markdown",
      "metadata": {
        "id": "iZUpDWng5r-I"
      },
      "source": [
        "**Step 2: Connecting to the Google Drive**\r\n"
      ]
    },
    {
      "cell_type": "code",
      "metadata": {
        "colab": {
          "base_uri": "https://localhost:8080/"
        },
        "id": "r-TzKnjf5w9E",
        "outputId": "bbd0afd2-e41a-4ebb-96d4-8b9f500ad203"
      },
      "source": [
        "from google.colab import drive\r\n",
        "drive.mount('/content/drive')"
      ],
      "execution_count": 16,
      "outputs": [
        {
          "output_type": "stream",
          "text": [
            "Drive already mounted at /content/drive; to attempt to forcibly remount, call drive.mount(\"/content/drive\", force_remount=True).\n"
          ],
          "name": "stdout"
        }
      ]
    },
    {
      "cell_type": "markdown",
      "metadata": {
        "id": "VG1WIIOI6BX2"
      },
      "source": [
        "**Step 3: Once it connected, read the file as pandas dataframe. To do this we need to copy the file location in the code**\r\n",
        "\r\n"
      ]
    },
    {
      "cell_type": "code",
      "metadata": {
        "colab": {
          "base_uri": "https://localhost:8080/",
          "height": 100
        },
        "id": "OBpnyoqN6PvB",
        "outputId": "630803c7-1c63-4c97-e260-2fecbbb1c151"
      },
      "source": [
        "dataset=pd.read_csv(\"/content/drive/MyDrive/Colab Notebooks/input_file.txt\",delimiter=\"\\t\")\r\n",
        "dataset"
      ],
      "execution_count": 17,
      "outputs": [
        {
          "output_type": "execute_result",
          "data": {
            "text/html": [
              "<div>\n",
              "<style scoped>\n",
              "    .dataframe tbody tr th:only-of-type {\n",
              "        vertical-align: middle;\n",
              "    }\n",
              "\n",
              "    .dataframe tbody tr th {\n",
              "        vertical-align: top;\n",
              "    }\n",
              "\n",
              "    .dataframe thead th {\n",
              "        text-align: right;\n",
              "    }\n",
              "</style>\n",
              "<table border=\"1\" class=\"dataframe\">\n",
              "  <thead>\n",
              "    <tr style=\"text-align: right;\">\n",
              "      <th></th>\n",
              "      <th>Text Analytics has lots of applications in today's online world. By analyzing tweets on Twitter, we can find trending news and peoples reaction on a particular event. Amazon can understand user feedback or review on the specific product. BookMyShow can discover people's opinion about the movie. Youtube can also analyze and understand peoples viewpoints on a video.</th>\n",
              "    </tr>\n",
              "  </thead>\n",
              "  <tbody>\n",
              "  </tbody>\n",
              "</table>\n",
              "</div>"
            ],
            "text/plain": [
              "Empty DataFrame\n",
              "Columns: [Text Analytics has lots of applications in today's online world. By analyzing tweets on Twitter, we can find trending news and peoples reaction on a particular event. Amazon can understand user feedback or review on the specific product. BookMyShow can discover people's opinion about the movie. Youtube can also analyze and understand peoples viewpoints on a video.]\n",
              "Index: []"
            ]
          },
          "metadata": {
            "tags": []
          },
          "execution_count": 17
        }
      ]
    },
    {
      "cell_type": "markdown",
      "metadata": {
        "id": "It2627if7Ees"
      },
      "source": [
        "**Stpe 4: After successfully completing the above steps, we have to perform different operations on the file that we took from drive. Before that, I am converting the data set to text using below snippet**\r\n"
      ]
    },
    {
      "cell_type": "code",
      "metadata": {
        "colab": {
          "base_uri": "https://localhost:8080/"
        },
        "id": "iCiUxFZM7eId",
        "outputId": "8aac597e-1ed5-4436-990c-df8c2973b34f"
      },
      "source": [
        "text= dataset.to_string()\r\n",
        "print(text)"
      ],
      "execution_count": 18,
      "outputs": [
        {
          "output_type": "stream",
          "text": [
            "Empty DataFrame\n",
            "Columns: [Text Analytics has lots of applications in today's online world. By analyzing tweets on Twitter, we can find trending news and peoples reaction on a particular event. Amazon can understand user feedback or review on the specific product. BookMyShow can discover people's opinion about the movie. Youtube can also analyze and understand peoples viewpoints on a video.]\n",
            "Index: []\n"
          ],
          "name": "stdout"
        }
      ]
    },
    {
      "cell_type": "markdown",
      "metadata": {
        "id": "59AqYLovA7_h"
      },
      "source": [
        "**Operation 1: Printing the first 75 characters in the text**\r\n"
      ]
    },
    {
      "cell_type": "code",
      "metadata": {
        "colab": {
          "base_uri": "https://localhost:8080/"
        },
        "id": "Z2dUvzRSBK1Y",
        "outputId": "95c8fdaf-bbac-44c6-c3f2-55be898ccfe6"
      },
      "source": [
        "print(text[:75]) # It prints the first 75 characters in the data"
      ],
      "execution_count": 20,
      "outputs": [
        {
          "output_type": "stream",
          "text": [
            "Empty DataFrame\n",
            "Columns: [Text Analytics has lots of applications in today'\n"
          ],
          "name": "stdout"
        }
      ]
    },
    {
      "cell_type": "markdown",
      "metadata": {
        "id": "SYVJddCkBx30"
      },
      "source": [
        "**Operation 2: Sorting the characters in the file and find out the unique characters in that**\r\n"
      ]
    },
    {
      "cell_type": "code",
      "metadata": {
        "colab": {
          "base_uri": "https://localhost:8080/"
        },
        "id": "4tJSfP0xCEmW",
        "outputId": "e04d10cc-27cd-49f8-8bed-f7fc5a221a45"
      },
      "source": [
        "t1 = sorted(set(text)) # It sorts the characters \r\n",
        "print(t1)\r\n",
        "print('{} unique characters'.format(len(t1))) # Printing the unique characters count"
      ],
      "execution_count": 21,
      "outputs": [
        {
          "output_type": "stream",
          "text": [
            "['\\n', ' ', \"'\", ',', '.', ':', 'A', 'B', 'C', 'D', 'E', 'F', 'I', 'M', 'S', 'T', 'Y', '[', ']', 'a', 'b', 'c', 'd', 'e', 'f', 'g', 'h', 'i', 'k', 'l', 'm', 'n', 'o', 'p', 'r', 's', 't', 'u', 'v', 'w', 'x', 'y', 'z']\n",
            "43 unique characters\n"
          ],
          "name": "stdout"
        }
      ]
    },
    {
      "cell_type": "markdown",
      "metadata": {
        "id": "U2KBO59TQxgg"
      },
      "source": [
        "**Operation 3: Split the words based on our choice in the file and printing the length**"
      ]
    },
    {
      "cell_type": "code",
      "metadata": {
        "colab": {
          "base_uri": "https://localhost:8080/"
        },
        "id": "e6qZ5_1bQ2qd",
        "outputId": "fd47f7d2-aaff-432f-de60-d8a5e090dc41"
      },
      "source": [
        "s1 = text.split(\".\") # It splits the data where ever \".\" present\r\n",
        "s1"
      ],
      "execution_count": 24,
      "outputs": [
        {
          "output_type": "execute_result",
          "data": {
            "text/plain": [
              "[\"Empty DataFrame\\nColumns: [Text Analytics has lots of applications in today's online world\",\n",
              " ' By analyzing tweets on Twitter, we can find trending news and peoples reaction on a particular event',\n",
              " ' Amazon can understand user feedback or review on the specific product',\n",
              " \" BookMyShow can discover people's opinion about the movie\",\n",
              " ' Youtube can also analyze and understand peoples viewpoints on a video',\n",
              " ']\\nIndex: []']"
            ]
          },
          "metadata": {
            "tags": []
          },
          "execution_count": 24
        }
      ]
    },
    {
      "cell_type": "markdown",
      "metadata": {
        "id": "SJfLyqIqWqf0"
      },
      "source": [
        "**Operation 4: Converting the characters to upper case, lower case**"
      ]
    },
    {
      "cell_type": "code",
      "metadata": {
        "colab": {
          "base_uri": "https://localhost:8080/",
          "height": 208
        },
        "id": "JJMpUm93W5oG",
        "outputId": "6faa0d97-c55d-4eee-8c6f-d2409e5a9d4b"
      },
      "source": [
        "l1 = text.swapcase() # it swap all the character cases i.e lower->upper and upper->lower\r\n",
        "print(l1)\r\n",
        "l2 = text.lower()  # it converts all the characters to lowercase\r\n",
        "print(l2)\r\n",
        "l3 = text.upper()  # it converts all the characters to uppercase\r\n",
        "l3"
      ],
      "execution_count": 23,
      "outputs": [
        {
          "output_type": "stream",
          "text": [
            "eMPTY dATAfRAME\n",
            "cOLUMNS: [tEXT aNALYTICS HAS LOTS OF APPLICATIONS IN TODAY'S ONLINE WORLD. bY ANALYZING TWEETS ON tWITTER, WE CAN FIND TRENDING NEWS AND PEOPLES REACTION ON A PARTICULAR EVENT. aMAZON CAN UNDERSTAND USER FEEDBACK OR REVIEW ON THE SPECIFIC PRODUCT. bOOKmYsHOW CAN DISCOVER PEOPLE'S OPINION ABOUT THE MOVIE. yOUTUBE CAN ALSO ANALYZE AND UNDERSTAND PEOPLES VIEWPOINTS ON A VIDEO.]\n",
            "iNDEX: []\n",
            "empty dataframe\n",
            "columns: [text analytics has lots of applications in today's online world. by analyzing tweets on twitter, we can find trending news and peoples reaction on a particular event. amazon can understand user feedback or review on the specific product. bookmyshow can discover people's opinion about the movie. youtube can also analyze and understand peoples viewpoints on a video.]\n",
            "index: []\n"
          ],
          "name": "stdout"
        },
        {
          "output_type": "execute_result",
          "data": {
            "application/vnd.google.colaboratory.intrinsic+json": {
              "type": "string"
            },
            "text/plain": [
              "\"EMPTY DATAFRAME\\nCOLUMNS: [TEXT ANALYTICS HAS LOTS OF APPLICATIONS IN TODAY'S ONLINE WORLD. BY ANALYZING TWEETS ON TWITTER, WE CAN FIND TRENDING NEWS AND PEOPLES REACTION ON A PARTICULAR EVENT. AMAZON CAN UNDERSTAND USER FEEDBACK OR REVIEW ON THE SPECIFIC PRODUCT. BOOKMYSHOW CAN DISCOVER PEOPLE'S OPINION ABOUT THE MOVIE. YOUTUBE CAN ALSO ANALYZE AND UNDERSTAND PEOPLES VIEWPOINTS ON A VIDEO.]\\nINDEX: []\""
            ]
          },
          "metadata": {
            "tags": []
          },
          "execution_count": 23
        }
      ]
    }
  ]
}