{
  "nbformat": 4,
  "nbformat_minor": 0,
  "metadata": {
    "colab": {
      "name": "KDM_ICP1.ipynb",
      "provenance": [],
      "mount_file_id": "15hKsvtbQCNL3mGz70tomcZkfYZzYDnbC",
      "authorship_tag": "ABX9TyPXyFBPXJgfZeVPv6HYEtW5",
      "include_colab_link": true
    },
    "kernelspec": {
      "name": "python3",
      "display_name": "Python 3"
    }
  },
  "cells": [
    {
      "cell_type": "markdown",
      "metadata": {
        "id": "view-in-github",
        "colab_type": "text"
      },
      "source": [
        "<a href=\"https://colab.research.google.com/github/Nithin46/KDM_ICP1/blob/main/KDM_ICP1.ipynb\" target=\"_parent\"><img src=\"https://colab.research.google.com/assets/colab-badge.svg\" alt=\"Open In Colab\"/></a>"
      ]
    },
    {
      "cell_type": "code",
      "metadata": {
        "id": "Ki4AXWT-5FrB"
      },
      "source": [
        ""
      ],
      "execution_count": null,
      "outputs": []
    },
    {
      "cell_type": "markdown",
      "metadata": {
        "id": "5WzV6YJj5Nd_"
      },
      "source": [
        "**Step 1: Below snippet is to import all the libraries that we are going to use**\r\n",
        "\r\n"
      ]
    },
    {
      "cell_type": "code",
      "metadata": {
        "colab": {
          "base_uri": "https://localhost:8080/"
        },
        "id": "osW-c-cx5Te7",
        "outputId": "5987ae7b-be97-4b65-a44f-29e600691426"
      },
      "source": [
        "import nltk\r\n",
        "nltk.download('punkt')\r\n",
        "import pandas as pd\r\n",
        "from nltk.tokenize import sent_tokenize\r\n",
        "from nltk.tokenize import word_tokenize\r\n",
        "from nltk.probability import FreqDist\r\n",
        "import matplotlib.pyplot as plt"
      ],
      "execution_count": 1,
      "outputs": [
        {
          "output_type": "stream",
          "text": [
            "[nltk_data] Downloading package punkt to /root/nltk_data...\n",
            "[nltk_data]   Unzipping tokenizers/punkt.zip.\n"
          ],
          "name": "stdout"
        }
      ]
    },
    {
      "cell_type": "markdown",
      "metadata": {
        "id": "iZUpDWng5r-I"
      },
      "source": [
        "**Step 2: Connecting to the Google Drive**\r\n"
      ]
    },
    {
      "cell_type": "code",
      "metadata": {
        "colab": {
          "base_uri": "https://localhost:8080/"
        },
        "id": "r-TzKnjf5w9E",
        "outputId": "61a6a186-45ff-46fb-cc79-c85996387b2f"
      },
      "source": [
        "from google.colab import drive\r\n",
        "drive.mount('/content/drive')"
      ],
      "execution_count": 2,
      "outputs": [
        {
          "output_type": "stream",
          "text": [
            "Drive already mounted at /content/drive; to attempt to forcibly remount, call drive.mount(\"/content/drive\", force_remount=True).\n"
          ],
          "name": "stdout"
        }
      ]
    },
    {
      "cell_type": "markdown",
      "metadata": {
        "id": "VG1WIIOI6BX2"
      },
      "source": [
        "**Step 3: Once it connected, read the file as pandas dataframe. To do this we need to copy the file location in the code**\r\n",
        "\r\n"
      ]
    },
    {
      "cell_type": "code",
      "metadata": {
        "colab": {
          "base_uri": "https://localhost:8080/",
          "height": 100
        },
        "id": "OBpnyoqN6PvB",
        "outputId": "0505df3c-3a4c-4f8a-e494-4add4644a65b"
      },
      "source": [
        "dataset=pd.read_csv(\"/content/drive/MyDrive/Colab Notebooks/input_file.txt\",delimiter=\"\\t\")\r\n",
        "dataset"
      ],
      "execution_count": 3,
      "outputs": [
        {
          "output_type": "execute_result",
          "data": {
            "text/html": [
              "<div>\n",
              "<style scoped>\n",
              "    .dataframe tbody tr th:only-of-type {\n",
              "        vertical-align: middle;\n",
              "    }\n",
              "\n",
              "    .dataframe tbody tr th {\n",
              "        vertical-align: top;\n",
              "    }\n",
              "\n",
              "    .dataframe thead th {\n",
              "        text-align: right;\n",
              "    }\n",
              "</style>\n",
              "<table border=\"1\" class=\"dataframe\">\n",
              "  <thead>\n",
              "    <tr style=\"text-align: right;\">\n",
              "      <th></th>\n",
              "      <th>Text Analytics has lots of applications in today's online world. By analyzing tweets on Twitter, we can find trending news and peoples reaction on a particular event. Amazon can understand user feedback or review on the specific product. BookMyShow can discover people's opinion about the movie. Youtube can also analyze and understand peoples viewpoints on a video.</th>\n",
              "    </tr>\n",
              "  </thead>\n",
              "  <tbody>\n",
              "  </tbody>\n",
              "</table>\n",
              "</div>"
            ],
            "text/plain": [
              "Empty DataFrame\n",
              "Columns: [Text Analytics has lots of applications in today's online world. By analyzing tweets on Twitter, we can find trending news and peoples reaction on a particular event. Amazon can understand user feedback or review on the specific product. BookMyShow can discover people's opinion about the movie. Youtube can also analyze and understand peoples viewpoints on a video.]\n",
              "Index: []"
            ]
          },
          "metadata": {
            "tags": []
          },
          "execution_count": 3
        }
      ]
    },
    {
      "cell_type": "markdown",
      "metadata": {
        "id": "It2627if7Ees"
      },
      "source": [
        "**Stpe 4: After successfully completing the above steps, we have to perform different operations on the file that we took from drive. Before that, I am converting the data set to text using below snippet**\r\n"
      ]
    },
    {
      "cell_type": "code",
      "metadata": {
        "colab": {
          "base_uri": "https://localhost:8080/"
        },
        "id": "iCiUxFZM7eId",
        "outputId": "ec5e2ae5-e230-4b9a-c0f0-a96c9b0645a6"
      },
      "source": [
        "text= dataset.to_string()\r\n",
        "print(text)"
      ],
      "execution_count": 4,
      "outputs": [
        {
          "output_type": "stream",
          "text": [
            "Empty DataFrame\n",
            "Columns: [Text Analytics has lots of applications in today's online world. By analyzing tweets on Twitter, we can find trending news and peoples reaction on a particular event. Amazon can understand user feedback or review on the specific product. BookMyShow can discover people's opinion about the movie. Youtube can also analyze and understand peoples viewpoints on a video.]\n",
            "Index: []\n"
          ],
          "name": "stdout"
        }
      ]
    },
    {
      "cell_type": "markdown",
      "metadata": {
        "id": "59AqYLovA7_h"
      },
      "source": [
        "**Operation 1: Printing the first 50 characters in the text**\r\n"
      ]
    },
    {
      "cell_type": "code",
      "metadata": {
        "colab": {
          "base_uri": "https://localhost:8080/"
        },
        "id": "Z2dUvzRSBK1Y",
        "outputId": "553626cd-9814-43d6-fb33-aa1fb33803e2"
      },
      "source": [
        "print(text[:50])"
      ],
      "execution_count": 6,
      "outputs": [
        {
          "output_type": "stream",
          "text": [
            "Empty DataFrame\n",
            "Columns: [Text Analytics has lots \n"
          ],
          "name": "stdout"
        }
      ]
    },
    {
      "cell_type": "markdown",
      "metadata": {
        "id": "SYVJddCkBx30"
      },
      "source": [
        "**Operation 2: Sorting the characters in the file and find out the unique characters in that**\r\n"
      ]
    },
    {
      "cell_type": "code",
      "metadata": {
        "colab": {
          "base_uri": "https://localhost:8080/"
        },
        "id": "4tJSfP0xCEmW",
        "outputId": "43788943-a0ff-4625-ec12-508dde98d795"
      },
      "source": [
        "t1 = sorted(set(text))\r\n",
        "print(t1)\r\n",
        "print('{} unique characters'.format(len(t1)))"
      ],
      "execution_count": 7,
      "outputs": [
        {
          "output_type": "stream",
          "text": [
            "['\\n', ' ', \"'\", ',', '.', ':', 'A', 'B', 'C', 'D', 'E', 'F', 'I', 'M', 'S', 'T', 'Y', '[', ']', 'a', 'b', 'c', 'd', 'e', 'f', 'g', 'h', 'i', 'k', 'l', 'm', 'n', 'o', 'p', 'r', 's', 't', 'u', 'v', 'w', 'x', 'y', 'z']\n",
            "43 unique characters\n"
          ],
          "name": "stdout"
        }
      ]
    },
    {
      "cell_type": "markdown",
      "metadata": {
        "id": "U2KBO59TQxgg"
      },
      "source": [
        "**Operation 3: Split the words based on our choice in the file and printing the length**"
      ]
    },
    {
      "cell_type": "code",
      "metadata": {
        "colab": {
          "base_uri": "https://localhost:8080/"
        },
        "id": "e6qZ5_1bQ2qd",
        "outputId": "07b37b70-d291-4d4f-9b57-eba621b4cdc1"
      },
      "source": [
        "s1 = text.split(\".\") # It splits the where ever \".\" present\r\n",
        "print(s1,'\\t')\r\n",
        "s2 = len(s1)  # Finding the length\r\n",
        "s2"
      ],
      "execution_count": 14,
      "outputs": [
        {
          "output_type": "stream",
          "text": [
            "[\"Empty DataFrame\\nColumns: [Text Analytics has lots of applications in today's online world\", ' By analyzing tweets on Twitter, we can find trending news and peoples reaction on a particular event', ' Amazon can understand user feedback or review on the specific product', \" BookMyShow can discover people's opinion about the movie\", ' Youtube can also analyze and understand peoples viewpoints on a video', ']\\nIndex: []'] \t\n"
          ],
          "name": "stdout"
        },
        {
          "output_type": "execute_result",
          "data": {
            "text/plain": [
              "6"
            ]
          },
          "metadata": {
            "tags": []
          },
          "execution_count": 14
        }
      ]
    },
    {
      "cell_type": "markdown",
      "metadata": {
        "id": "SJfLyqIqWqf0"
      },
      "source": [
        "**Operation 4: Converting the characters to upper case, lower case**"
      ]
    },
    {
      "cell_type": "code",
      "metadata": {
        "colab": {
          "base_uri": "https://localhost:8080/",
          "height": 208
        },
        "id": "JJMpUm93W5oG",
        "outputId": "8a0c64ed-9e66-475b-b5d7-f626d7d8c7a3"
      },
      "source": [
        "l1 = text.swapcase() # it swap all the character cases i.e lower->upper and upper->lower\r\n",
        "print(l1)\r\n",
        "l2 = text.lower()  # it converts all the characters to lowercase\r\n",
        "print(l2)\r\n",
        "l3 = text.upper()  # it converts all the characters to uppercase\r\n",
        "l3"
      ],
      "execution_count": 13,
      "outputs": [
        {
          "output_type": "stream",
          "text": [
            "eMPTY dATAfRAME\n",
            "cOLUMNS: [tEXT aNALYTICS HAS LOTS OF APPLICATIONS IN TODAY'S ONLINE WORLD. bY ANALYZING TWEETS ON tWITTER, WE CAN FIND TRENDING NEWS AND PEOPLES REACTION ON A PARTICULAR EVENT. aMAZON CAN UNDERSTAND USER FEEDBACK OR REVIEW ON THE SPECIFIC PRODUCT. bOOKmYsHOW CAN DISCOVER PEOPLE'S OPINION ABOUT THE MOVIE. yOUTUBE CAN ALSO ANALYZE AND UNDERSTAND PEOPLES VIEWPOINTS ON A VIDEO.]\n",
            "iNDEX: []\n",
            "empty dataframe\n",
            "columns: [text analytics has lots of applications in today's online world. by analyzing tweets on twitter, we can find trending news and peoples reaction on a particular event. amazon can understand user feedback or review on the specific product. bookmyshow can discover people's opinion about the movie. youtube can also analyze and understand peoples viewpoints on a video.]\n",
            "index: []\n"
          ],
          "name": "stdout"
        },
        {
          "output_type": "execute_result",
          "data": {
            "application/vnd.google.colaboratory.intrinsic+json": {
              "type": "string"
            },
            "text/plain": [
              "\"EMPTY DATAFRAME\\nCOLUMNS: [TEXT ANALYTICS HAS LOTS OF APPLICATIONS IN TODAY'S ONLINE WORLD. BY ANALYZING TWEETS ON TWITTER, WE CAN FIND TRENDING NEWS AND PEOPLES REACTION ON A PARTICULAR EVENT. AMAZON CAN UNDERSTAND USER FEEDBACK OR REVIEW ON THE SPECIFIC PRODUCT. BOOKMYSHOW CAN DISCOVER PEOPLE'S OPINION ABOUT THE MOVIE. YOUTUBE CAN ALSO ANALYZE AND UNDERSTAND PEOPLES VIEWPOINTS ON A VIDEO.]\\nINDEX: []\""
            ]
          },
          "metadata": {
            "tags": []
          },
          "execution_count": 13
        }
      ]
    }
  ]
}